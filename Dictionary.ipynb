{
 "cells": [
  {
   "cell_type": "code",
   "execution_count": 1,
   "id": "dffbe4fd",
   "metadata": {},
   "outputs": [],
   "source": [
    "x={'name':'d',\n",
    "   'age':3\n",
    "}"
   ]
  },
  {
   "cell_type": "code",
   "execution_count": 2,
   "id": "5b6fbdf8",
   "metadata": {},
   "outputs": [
    {
     "data": {
      "text/plain": [
       "{'name': 'd', 'age': 3}"
      ]
     },
     "execution_count": 2,
     "metadata": {},
     "output_type": "execute_result"
    }
   ],
   "source": [
    "x"
   ]
  },
  {
   "cell_type": "code",
   "execution_count": 3,
   "id": "fc373d80",
   "metadata": {},
   "outputs": [
    {
     "data": {
      "text/plain": [
       "dict"
      ]
     },
     "execution_count": 3,
     "metadata": {},
     "output_type": "execute_result"
    }
   ],
   "source": [
    "type(x)"
   ]
  },
  {
   "cell_type": "code",
   "execution_count": 4,
   "id": "39e350a5",
   "metadata": {},
   "outputs": [],
   "source": [
    "#wap to make dict. of employee having name, empl_id and sal.\n",
    "x={'name':'q',\n",
    "   'emp_id':232442,\n",
    "   'sal':2330\n",
    "}"
   ]
  },
  {
   "cell_type": "code",
   "execution_count": 5,
   "id": "7e14caee",
   "metadata": {},
   "outputs": [
    {
     "data": {
      "text/plain": [
       "{'name': 'q', 'emp_id': 232442, 'sal': 2330}"
      ]
     },
     "execution_count": 5,
     "metadata": {},
     "output_type": "execute_result"
    }
   ],
   "source": [
    "x"
   ]
  },
  {
   "cell_type": "code",
   "execution_count": 6,
   "id": "b624bc45",
   "metadata": {},
   "outputs": [
    {
     "data": {
      "text/plain": [
       "dict"
      ]
     },
     "execution_count": 6,
     "metadata": {},
     "output_type": "execute_result"
    }
   ],
   "source": [
    "type(x)"
   ]
  },
  {
   "cell_type": "code",
   "execution_count": 7,
   "id": "370237fb",
   "metadata": {},
   "outputs": [
    {
     "data": {
      "text/plain": [
       "232442"
      ]
     },
     "execution_count": 7,
     "metadata": {},
     "output_type": "execute_result"
    }
   ],
   "source": [
    "x['emp_id']"
   ]
  },
  {
   "cell_type": "code",
   "execution_count": 8,
   "id": "d144d6e9",
   "metadata": {},
   "outputs": [],
   "source": [
    "a={\n",
    "    'name':('a','d','c','f'),\n",
    "    'sub':['eng','math','geo','hindi'],\n",
    "    'marks':(89,45,78,80)\n",
    "}"
   ]
  },
  {
   "cell_type": "code",
   "execution_count": 9,
   "id": "6e1477ec",
   "metadata": {},
   "outputs": [
    {
     "data": {
      "text/plain": [
       "{'name': ('a', 'd', 'c', 'f'),\n",
       " 'sub': ['eng', 'math', 'geo', 'hindi'],\n",
       " 'marks': (89, 45, 78, 80)}"
      ]
     },
     "execution_count": 9,
     "metadata": {},
     "output_type": "execute_result"
    }
   ],
   "source": [
    "a"
   ]
  },
  {
   "cell_type": "code",
   "execution_count": 10,
   "id": "8b0f31cd",
   "metadata": {},
   "outputs": [
    {
     "data": {
      "text/plain": [
       "'hindi'"
      ]
     },
     "execution_count": 10,
     "metadata": {},
     "output_type": "execute_result"
    }
   ],
   "source": [
    "a['sub'][3]"
   ]
  },
  {
   "cell_type": "code",
   "execution_count": 11,
   "id": "eae3c06f",
   "metadata": {},
   "outputs": [
    {
     "data": {
      "text/plain": [
       "78"
      ]
     },
     "execution_count": 11,
     "metadata": {},
     "output_type": "execute_result"
    }
   ],
   "source": [
    "a['marks'][2]"
   ]
  },
  {
   "cell_type": "code",
   "execution_count": 12,
   "id": "0b5b1a28",
   "metadata": {},
   "outputs": [],
   "source": [
    "#wap to make empty dict\n",
    "x={'marks':()}"
   ]
  },
  {
   "cell_type": "code",
   "execution_count": 13,
   "id": "d87949c6",
   "metadata": {},
   "outputs": [
    {
     "data": {
      "text/plain": [
       "dict"
      ]
     },
     "execution_count": 13,
     "metadata": {},
     "output_type": "execute_result"
    }
   ],
   "source": [
    "type(x)"
   ]
  },
  {
   "cell_type": "code",
   "execution_count": 14,
   "id": "4a2fa375",
   "metadata": {},
   "outputs": [
    {
     "data": {
      "text/plain": [
       "dict"
      ]
     },
     "execution_count": 14,
     "metadata": {},
     "output_type": "execute_result"
    }
   ],
   "source": [
    "#wap to make empty dict\n",
    "x={}\n",
    "type(x)"
   ]
  },
  {
   "cell_type": "code",
   "execution_count": 15,
   "id": "c573e615",
   "metadata": {},
   "outputs": [],
   "source": [
    "#wap to make single element dict\n",
    "y={'age':[56,]}"
   ]
  },
  {
   "cell_type": "code",
   "execution_count": 16,
   "id": "ee8e3a83",
   "metadata": {},
   "outputs": [
    {
     "data": {
      "text/plain": [
       "dict"
      ]
     },
     "execution_count": 16,
     "metadata": {},
     "output_type": "execute_result"
    }
   ],
   "source": [
    "type(y)"
   ]
  },
  {
   "cell_type": "markdown",
   "id": "dc5f6f95",
   "metadata": {},
   "source": [
    "# Dict Method"
   ]
  },
  {
   "cell_type": "code",
   "execution_count": 17,
   "id": "ba2c1d07",
   "metadata": {},
   "outputs": [],
   "source": [
    "a={'age':[45,23,65,12],\n",
    "  'name':('as','er','dj','fu'),\n",
    "   'marks':(34,89,83,67)\n",
    "  }"
   ]
  },
  {
   "cell_type": "code",
   "execution_count": 18,
   "id": "0851561b",
   "metadata": {},
   "outputs": [],
   "source": [
    "a.clear()"
   ]
  },
  {
   "cell_type": "code",
   "execution_count": 19,
   "id": "2ceebdfa",
   "metadata": {},
   "outputs": [
    {
     "data": {
      "text/plain": [
       "{}"
      ]
     },
     "execution_count": 19,
     "metadata": {},
     "output_type": "execute_result"
    }
   ],
   "source": [
    "a"
   ]
  },
  {
   "cell_type": "code",
   "execution_count": 20,
   "id": "2b2c3b52",
   "metadata": {},
   "outputs": [],
   "source": [
    "b ={'age':[45,23,65,12],\n",
    "  'name':('as','er','dj','fu'),\n",
    "   'marks':(34,89,83,67)\n",
    "  }"
   ]
  },
  {
   "cell_type": "code",
   "execution_count": 21,
   "id": "51438496",
   "metadata": {},
   "outputs": [
    {
     "data": {
      "text/plain": [
       "{'age': [45, 23, 65, 12],\n",
       " 'name': ('as', 'er', 'dj', 'fu'),\n",
       " 'marks': (34, 89, 83, 67)}"
      ]
     },
     "execution_count": 21,
     "metadata": {},
     "output_type": "execute_result"
    }
   ],
   "source": [
    "b"
   ]
  },
  {
   "cell_type": "code",
   "execution_count": 22,
   "id": "4ed1fc97",
   "metadata": {},
   "outputs": [
    {
     "data": {
      "text/plain": [
       "{'age': [45, 23, 65, 12],\n",
       " 'name': ('as', 'er', 'dj', 'fu'),\n",
       " 'marks': (34, 89, 83, 67)}"
      ]
     },
     "execution_count": 22,
     "metadata": {},
     "output_type": "execute_result"
    }
   ],
   "source": [
    "b.copy()"
   ]
  },
  {
   "cell_type": "code",
   "execution_count": 23,
   "id": "3fab94b5",
   "metadata": {},
   "outputs": [
    {
     "data": {
      "text/plain": [
       "{'age': [45, 23, 65, 12],\n",
       " 'name': ('as', 'er', 'dj', 'fu'),\n",
       " 'marks': (34, 89, 83, 67)}"
      ]
     },
     "execution_count": 23,
     "metadata": {},
     "output_type": "execute_result"
    }
   ],
   "source": [
    "b"
   ]
  },
  {
   "cell_type": "code",
   "execution_count": 24,
   "id": "e9deb477",
   "metadata": {},
   "outputs": [
    {
     "data": {
      "text/plain": [
       "(34, 89, 83, 67)"
      ]
     },
     "execution_count": 24,
     "metadata": {},
     "output_type": "execute_result"
    }
   ],
   "source": [
    "b.get('marks')"
   ]
  },
  {
   "cell_type": "code",
   "execution_count": 25,
   "id": "f0f2b080",
   "metadata": {},
   "outputs": [
    {
     "data": {
      "text/plain": [
       "dict_keys(['age', 'name', 'marks'])"
      ]
     },
     "execution_count": 25,
     "metadata": {},
     "output_type": "execute_result"
    }
   ],
   "source": [
    "b.keys()"
   ]
  },
  {
   "cell_type": "code",
   "execution_count": 26,
   "id": "d3422b3a",
   "metadata": {},
   "outputs": [
    {
     "data": {
      "text/plain": [
       "dict_values([[45, 23, 65, 12], ('as', 'er', 'dj', 'fu'), (34, 89, 83, 67)])"
      ]
     },
     "execution_count": 26,
     "metadata": {},
     "output_type": "execute_result"
    }
   ],
   "source": [
    "b.values()"
   ]
  },
  {
   "cell_type": "code",
   "execution_count": 27,
   "id": "67f8520f",
   "metadata": {},
   "outputs": [
    {
     "data": {
      "text/plain": [
       "dict_items([('age', [45, 23, 65, 12]), ('name', ('as', 'er', 'dj', 'fu')), ('marks', (34, 89, 83, 67))])"
      ]
     },
     "execution_count": 27,
     "metadata": {},
     "output_type": "execute_result"
    }
   ],
   "source": [
    "b.items()"
   ]
  },
  {
   "cell_type": "code",
   "execution_count": 34,
   "id": "c38c74fc",
   "metadata": {},
   "outputs": [
    {
     "data": {
      "text/plain": [
       "23"
      ]
     },
     "execution_count": 34,
     "metadata": {},
     "output_type": "execute_result"
    }
   ],
   "source": [
    "b.pop('age')[1]"
   ]
  },
  {
   "cell_type": "code",
   "execution_count": 35,
   "id": "80427d9c",
   "metadata": {},
   "outputs": [
    {
     "data": {
      "text/plain": [
       "{'name': ('as', 'er', 'dj', 'fu'), 'marks': (34, 89, 83, 67)}"
      ]
     },
     "execution_count": 35,
     "metadata": {},
     "output_type": "execute_result"
    }
   ],
   "source": [
    "b"
   ]
  },
  {
   "cell_type": "code",
   "execution_count": 29,
   "id": "dc0054e6",
   "metadata": {},
   "outputs": [
    {
     "data": {
      "text/plain": [
       "{'age': [45, 23, 65, 12],\n",
       " 'name': ('as', 'er', 'dj', 'fu'),\n",
       " 'marks': (34, 89, 83, 67)}"
      ]
     },
     "execution_count": 29,
     "metadata": {},
     "output_type": "execute_result"
    }
   ],
   "source": [
    "b"
   ]
  },
  {
   "cell_type": "code",
   "execution_count": 30,
   "id": "3c828c1e",
   "metadata": {},
   "outputs": [],
   "source": [
    "a={'age':[45,23,65,12],\n",
    "  'name':('as','er','dj','fu'),\n",
    "   'marks':(34,89,83,78),\n",
    "  }"
   ]
  },
  {
   "cell_type": "code",
   "execution_count": 37,
   "id": "2dce8857",
   "metadata": {},
   "outputs": [],
   "source": [
    "b={'location':['hf','sk','kn'],\n",
    "  'grade':('d','h','a','b')}"
   ]
  },
  {
   "cell_type": "code",
   "execution_count": 43,
   "id": "07ee61ec",
   "metadata": {},
   "outputs": [],
   "source": [
    "a.update(b)"
   ]
  },
  {
   "cell_type": "code",
   "execution_count": 44,
   "id": "4a59f59b",
   "metadata": {},
   "outputs": [
    {
     "data": {
      "text/plain": [
       "{'age': [45, 23, 65, 12],\n",
       " 'name': ('as', 'er', 'dj', 'fu'),\n",
       " 'marks': (34, 89, 83, 78),\n",
       " 'location': ['hf', 'sk', 'kn'],\n",
       " 'grade': ('d', 'h', 'a', 'b')}"
      ]
     },
     "execution_count": 44,
     "metadata": {},
     "output_type": "execute_result"
    }
   ],
   "source": [
    "a"
   ]
  },
  {
   "cell_type": "code",
   "execution_count": null,
   "id": "99cb186e",
   "metadata": {},
   "outputs": [],
   "source": []
  }
 ],
 "metadata": {
  "kernelspec": {
   "display_name": "Python 3 (ipykernel)",
   "language": "python",
   "name": "python3"
  },
  "language_info": {
   "codemirror_mode": {
    "name": "ipython",
    "version": 3
   },
   "file_extension": ".py",
   "mimetype": "text/x-python",
   "name": "python",
   "nbconvert_exporter": "python",
   "pygments_lexer": "ipython3",
   "version": "3.9.12"
  }
 },
 "nbformat": 4,
 "nbformat_minor": 5
}
